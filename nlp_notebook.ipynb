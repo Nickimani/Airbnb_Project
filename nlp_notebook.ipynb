{
 "cells": [
  {
   "cell_type": "markdown",
   "id": "a9bbc317",
   "metadata": {},
   "source": [
    "#### For the nlp\n"
   ]
  },
  {
   "cell_type": "code",
   "execution_count": 17,
   "id": "bffa02e6",
   "metadata": {},
   "outputs": [],
   "source": [
    "import pandas as pd"
   ]
  },
  {
   "cell_type": "code",
   "execution_count": 18,
   "id": "b8bb7b60",
   "metadata": {},
   "outputs": [
    {
     "data": {
      "text/html": [
       "<div>\n",
       "<style scoped>\n",
       "    .dataframe tbody tr th:only-of-type {\n",
       "        vertical-align: middle;\n",
       "    }\n",
       "\n",
       "    .dataframe tbody tr th {\n",
       "        vertical-align: top;\n",
       "    }\n",
       "\n",
       "    .dataframe thead th {\n",
       "        text-align: right;\n",
       "    }\n",
       "</style>\n",
       "<table border=\"1\" class=\"dataframe\">\n",
       "  <thead>\n",
       "    <tr style=\"text-align: right;\">\n",
       "      <th></th>\n",
       "      <th>listing_id</th>\n",
       "      <th>id</th>\n",
       "      <th>date</th>\n",
       "      <th>reviewer_id</th>\n",
       "      <th>reviewer_name</th>\n",
       "      <th>comments</th>\n",
       "    </tr>\n",
       "  </thead>\n",
       "  <tbody>\n",
       "    <tr>\n",
       "      <th>0</th>\n",
       "      <td>30332317</td>\n",
       "      <td>597314314</td>\n",
       "      <td>2020-01-25</td>\n",
       "      <td>7812767</td>\n",
       "      <td>Alan</td>\n",
       "      <td>Lovely rustic accommodation in a picturesque r...</td>\n",
       "    </tr>\n",
       "    <tr>\n",
       "      <th>1</th>\n",
       "      <td>30332317</td>\n",
       "      <td>532436007654450454</td>\n",
       "      <td>2022-01-04</td>\n",
       "      <td>367340518</td>\n",
       "      <td>Courtney</td>\n",
       "      <td>The hosts are friendly and takes good care of ...</td>\n",
       "    </tr>\n",
       "    <tr>\n",
       "      <th>2</th>\n",
       "      <td>9126484</td>\n",
       "      <td>63063726</td>\n",
       "      <td>2016-02-20</td>\n",
       "      <td>50272994</td>\n",
       "      <td>Carla</td>\n",
       "      <td>6 St Georges Building was lovely in every way....</td>\n",
       "    </tr>\n",
       "    <tr>\n",
       "      <th>3</th>\n",
       "      <td>9126484</td>\n",
       "      <td>67195563</td>\n",
       "      <td>2016-03-27</td>\n",
       "      <td>59937103</td>\n",
       "      <td>Gau</td>\n",
       "      <td>Our host Bruce was great. Responsive, helpful ...</td>\n",
       "    </tr>\n",
       "    <tr>\n",
       "      <th>4</th>\n",
       "      <td>9126484</td>\n",
       "      <td>68077701</td>\n",
       "      <td>2016-04-02</td>\n",
       "      <td>19226497</td>\n",
       "      <td>Imke</td>\n",
       "      <td>Bruce was incredibly welcoming and very flexib...</td>\n",
       "    </tr>\n",
       "  </tbody>\n",
       "</table>\n",
       "</div>"
      ],
      "text/plain": [
       "   listing_id                  id        date  reviewer_id reviewer_name  \\\n",
       "0    30332317           597314314  2020-01-25      7812767          Alan   \n",
       "1    30332317  532436007654450454  2022-01-04    367340518      Courtney   \n",
       "2     9126484            63063726  2016-02-20     50272994         Carla   \n",
       "3     9126484            67195563  2016-03-27     59937103           Gau   \n",
       "4     9126484            68077701  2016-04-02     19226497          Imke   \n",
       "\n",
       "                                            comments  \n",
       "0  Lovely rustic accommodation in a picturesque r...  \n",
       "1  The hosts are friendly and takes good care of ...  \n",
       "2  6 St Georges Building was lovely in every way....  \n",
       "3  Our host Bruce was great. Responsive, helpful ...  \n",
       "4  Bruce was incredibly welcoming and very flexib...  "
      ]
     },
     "execution_count": 18,
     "metadata": {},
     "output_type": "execute_result"
    }
   ],
   "source": [
    "reviews = pd.read_csv('reviews_1.csv')\n",
    "reviews.head()"
   ]
  },
  {
   "cell_type": "code",
   "execution_count": 19,
   "id": "6f403d55",
   "metadata": {},
   "outputs": [],
   "source": [
    "listings = reviews['listing_id'].tolist()\n",
    "comments = reviews['comments'].to_list()"
   ]
  },
  {
   "cell_type": "code",
   "execution_count": 183,
   "id": "541cf27a",
   "metadata": {},
   "outputs": [
    {
     "data": {
      "text/plain": [
       "363065"
      ]
     },
     "execution_count": 183,
     "metadata": {},
     "output_type": "execute_result"
    }
   ],
   "source": [
    "len(listings)"
   ]
  },
  {
   "cell_type": "code",
   "execution_count": 184,
   "id": "1c13d8af",
   "metadata": {},
   "outputs": [
    {
     "data": {
      "text/plain": [
       "363065"
      ]
     },
     "execution_count": 184,
     "metadata": {},
     "output_type": "execute_result"
    }
   ],
   "source": [
    "len(comments)"
   ]
  },
  {
   "cell_type": "code",
   "execution_count": 185,
   "id": "d5e0d7ff",
   "metadata": {},
   "outputs": [
    {
     "data": {
      "text/plain": [
       "47"
      ]
     },
     "execution_count": 185,
     "metadata": {},
     "output_type": "execute_result"
    }
   ],
   "source": [
    "reviews['comments'].isna().sum() # 47 null reviews"
   ]
  },
  {
   "cell_type": "markdown",
   "id": "dc8b8468",
   "metadata": {},
   "source": [
    "* We dont know if the reviews are positive,negative or neutral, so we conduct a sentiment analysis to classify them"
   ]
  },
  {
   "cell_type": "code",
   "execution_count": 186,
   "id": "6e7d4ce4",
   "metadata": {},
   "outputs": [],
   "source": [
    " # I will be using this copy for my analysis\n",
    "reviews_copy = reviews.copy()"
   ]
  },
  {
   "cell_type": "code",
   "execution_count": 187,
   "id": "a00f6b93",
   "metadata": {},
   "outputs": [],
   "source": [
    "# remove null values in the comments\n",
    "reviews_copy = reviews_copy.dropna(subset = ['comments'])# remove null comments so they don't affect sentiment analysis"
   ]
  },
  {
   "cell_type": "code",
   "execution_count": null,
   "id": "5969b262",
   "metadata": {},
   "outputs": [],
   "source": [
    "# make a list for all the comments to be used for sentiment analysis\n",
    "all_comments = reviews_copy.comments.tolist() "
   ]
  },
  {
   "cell_type": "code",
   "execution_count": 97,
   "id": "ff5921d3",
   "metadata": {},
   "outputs": [
    {
     "name": "stdout",
     "output_type": "stream",
     "text": [
      "Collecting vaderSentiment\n",
      "  Downloading vaderSentiment-3.3.2-py2.py3-none-any.whl (125 kB)\n",
      "Requirement already satisfied: requests in c:\\users\\charityg\\anaconda3\\lib\\site-packages (from vaderSentiment) (2.26.0)\n",
      "Requirement already satisfied: certifi>=2017.4.17 in c:\\users\\charityg\\anaconda3\\lib\\site-packages (from requests->vaderSentiment) (2021.10.8)\n",
      "Requirement already satisfied: urllib3<1.27,>=1.21.1 in c:\\users\\charityg\\anaconda3\\lib\\site-packages (from requests->vaderSentiment) (1.26.7)\n",
      "Requirement already satisfied: charset-normalizer~=2.0.0 in c:\\users\\charityg\\anaconda3\\lib\\site-packages (from requests->vaderSentiment) (2.0.4)\n",
      "Requirement already satisfied: idna<4,>=2.5 in c:\\users\\charityg\\anaconda3\\lib\\site-packages (from requests->vaderSentiment) (3.2)\n",
      "Installing collected packages: vaderSentiment\n",
      "Successfully installed vaderSentiment-3.3.2\n"
     ]
    }
   ],
   "source": [
    "!pip install vaderSentiment # for sentiment analysis"
   ]
  },
  {
   "cell_type": "markdown",
   "id": "a4d8e717",
   "metadata": {},
   "source": [
    "### Doing sentiment analysis"
   ]
  },
  {
   "cell_type": "code",
   "execution_count": 177,
   "id": "40f895ae",
   "metadata": {},
   "outputs": [],
   "source": [
    "from vaderSentiment.vaderSentiment import SentimentIntensityAnalyzer\n",
    " \n",
    "sentiment = \"\"\n",
    "\n",
    "def sentiment_scores(review_comment):\n",
    "    \n",
    "    # Create a SentimentIntensityAnalyzer object.\n",
    "    sen_obj = SentimentIntensityAnalyzer()\n",
    " \n",
    "    # polarity_scores method of SentimentIntensityAnalyzer object gives a sentiment dictionary which contains\n",
    "    #pos, neg, neu, and compound scores.\n",
    "       \n",
    "    \n",
    "    sentiment_dict = sen_obj.polarity_scores(review_comment)\n",
    "     \n",
    "        # decide sentiment as positive, negative and neutral\n",
    "    if sentiment_dict['compound'] >= 0.05 :\n",
    "     \n",
    "        sentiment = 'Positive'\n",
    "       \n",
    "         \n",
    "    elif sentiment_dict['compound'] <= - 0.05 :\n",
    "       \n",
    "        sentiment = 'Negative'\n",
    "      \n",
    " \n",
    "    else :\n",
    "       \n",
    "        sentiment = 'Neutral'\n",
    "          \n",
    "    return sentiment\n",
    "\n",
    "#The compound score is a metric that calculates the sum of all the lexicon ratings which have\n",
    "#been normalized between -1(most extreme negative) and +1 (most extreme positive).\n",
    "#positive sentiment : (compound score >= 0.05) \n",
    "#neutral sentiment : (compound score > -0.05) and (compound score < 0.05) \n",
    "#negative sentiment : (compound score <= -0.05)\n",
    "#link :https://www.geeksforgeeks.org/python-sentiment-analysis-using-vader/\n",
    " \n"
   ]
  },
  {
   "cell_type": "code",
   "execution_count": 143,
   "id": "aaa4afd8",
   "metadata": {},
   "outputs": [
    {
     "data": {
      "text/plain": [
       "'Positive'"
      ]
     },
     "execution_count": 143,
     "metadata": {},
     "output_type": "execute_result"
    }
   ],
   "source": [
    "#tring to see if function works\n",
    "sentiment_scores(all_comments[100])"
   ]
  },
  {
   "cell_type": "code",
   "execution_count": 1,
   "id": "7d2dab29",
   "metadata": {},
   "outputs": [],
   "source": [
    "#the_sentiments = reviews_copy['comments'].apply(sentiment_scores) # this was taking forever to run"
   ]
  },
  {
   "cell_type": "code",
   "execution_count": 179,
   "id": "943329ed",
   "metadata": {},
   "outputs": [],
   "source": [
    "the_sentiments = [sentiment_scores(comment) for comment in all_comments[:20]] # tried for the first 20 comments"
   ]
  },
  {
   "cell_type": "code",
   "execution_count": 180,
   "id": "0a67dec4",
   "metadata": {},
   "outputs": [
    {
     "data": {
      "text/plain": [
       "['Positive',\n",
       " 'Positive',\n",
       " 'Positive',\n",
       " 'Positive',\n",
       " 'Positive',\n",
       " 'Positive',\n",
       " 'Positive',\n",
       " 'Positive',\n",
       " 'Positive',\n",
       " 'Positive']"
      ]
     },
     "execution_count": 180,
     "metadata": {},
     "output_type": "execute_result"
    }
   ],
   "source": [
    "the_sentiments"
   ]
  },
  {
   "cell_type": "markdown",
   "id": "f666c853",
   "metadata": {},
   "source": [
    " * we will then add these setiments to the reviews dataframe as an extra column called sentiment  "
   ]
  },
  {
   "cell_type": "code",
   "execution_count": 181,
   "id": "8c3b1d23",
   "metadata": {},
   "outputs": [],
   "source": [
    " \n",
    "#reviews_copy['sentiment'] = the_sentiments"
   ]
  },
  {
   "cell_type": "markdown",
   "id": "0a49cd08",
   "metadata": {},
   "source": []
  },
  {
   "cell_type": "markdown",
   "id": "73b89002",
   "metadata": {},
   "source": [
    "## Creating bag of words"
   ]
  },
  {
   "cell_type": "code",
   "execution_count": 20,
   "id": "b48e7204",
   "metadata": {},
   "outputs": [],
   "source": [
    "from nltk.stem import WordNetLemmatizer \n"
   ]
  },
  {
   "cell_type": "code",
   "execution_count": 21,
   "id": "62a66409",
   "metadata": {},
   "outputs": [],
   "source": [
    "import re\n",
    "import nltk"
   ]
  },
  {
   "cell_type": "code",
   "execution_count": 42,
   "id": "f32d9761",
   "metadata": {},
   "outputs": [],
   "source": [
    "from nltk.corpus import stopwords\n",
    "stop_words=  stopwords.words('english')"
   ]
  },
  {
   "cell_type": "code",
   "execution_count": 22,
   "id": "a28e1e68",
   "metadata": {},
   "outputs": [
    {
     "name": "stderr",
     "output_type": "stream",
     "text": [
      "[nltk_data] Downloading package averaged_perceptron_tagger to\n",
      "[nltk_data]     C:\\Users\\charityg\\AppData\\Roaming\\nltk_data...\n",
      "[nltk_data]   Package averaged_perceptron_tagger is already up-to-\n",
      "[nltk_data]       date!\n"
     ]
    },
    {
     "data": {
      "text/plain": [
       "True"
      ]
     },
     "execution_count": 22,
     "metadata": {},
     "output_type": "execute_result"
    }
   ],
   "source": [
    "nltk.download('averaged_perceptron_tagger')"
   ]
  },
  {
   "cell_type": "code",
   "execution_count": 23,
   "id": "dbc37cea",
   "metadata": {},
   "outputs": [
    {
     "name": "stderr",
     "output_type": "stream",
     "text": [
      "[nltk_data] Downloading package universal_tagset to\n",
      "[nltk_data]     C:\\Users\\charityg\\AppData\\Roaming\\nltk_data...\n",
      "[nltk_data]   Package universal_tagset is already up-to-date!\n"
     ]
    },
    {
     "data": {
      "text/plain": [
       "True"
      ]
     },
     "execution_count": 23,
     "metadata": {},
     "output_type": "execute_result"
    }
   ],
   "source": [
    "nltk.download('universal_tagset')"
   ]
  },
  {
   "cell_type": "markdown",
   "id": "7f110da9",
   "metadata": {},
   "source": [
    "* We need the words that are most common in positive reviews and also negative reviews, so we subdivide our dataframe into those two"
   ]
  },
  {
   "cell_type": "code",
   "execution_count": null,
   "id": "161d81af",
   "metadata": {},
   "outputs": [],
   "source": [
    "#reviews_positive = reviews_copy[reviews_copy['sentiment']== 'Positive']\n",
    "#reviews_negative = reviews_copy[reviews_copy['sentiment']== 'Negative']"
   ]
  },
  {
   "cell_type": "code",
   "execution_count": null,
   "id": "584644a7",
   "metadata": {},
   "outputs": [],
   "source": [
    "#negative and positive comments\n",
    "#positive_comments = reviews_positive.comments.tolist()\n",
    "#negative_comments = reviews_negative.comments.tolist()"
   ]
  },
  {
   "cell_type": "code",
   "execution_count": null,
   "id": "5dc41998",
   "metadata": {},
   "outputs": [],
   "source": [
    "## Creating the bag of words"
   ]
  },
  {
   "cell_type": "code",
   "execution_count": 43,
   "id": "2caa9506",
   "metadata": {},
   "outputs": [],
   "source": [
    "useful_tags = ['ADJ', 'ADV', 'VERB','NOUN'] # tags from  https://universaldependencies.org/u/pos/\n",
    "\n",
    "all_words = []\n",
    "\n",
    "def bag_of_words(the_comments):\n",
    "     # list to hold the words\n",
    "   \n",
    "    \n",
    "    #lemmatizer\n",
    "    lemmatizer = WordNetLemmatizer()\n",
    "    \n",
    "    for comment in the_comments:\n",
    "        \n",
    "        try:\n",
    "             # Removes special characters\n",
    "            text = re.sub('[^a-zA-Z]', ' ', comment)# replace non words with nothing?\n",
    "            text = re.sub(\"&lt;/?.*?&gt;\",\" &lt;&gt; \",text)\n",
    "            text = re.sub(\"(\\\\d|\\\\W)+\",\" \",text)\n",
    "            text = text.lower()\n",
    "\n",
    "            comment_tokenized = nltk.word_tokenize(text)  # Split the line of comment into a list of words. \n",
    "            \n",
    "            for i in range(0, len(comment_tokenized)):\n",
    "                comment_tokenized[i] = lemmatizer.lemmatize(comment_tokenized[i], pos=\"v\")#lemmatize every word in the text\n",
    "            \n",
    "            #remove stopwords\n",
    "            comment_no_stopwords = [word for word in comment_tokenized if not word in stop_words]\n",
    "\n",
    "            comment_tagged = nltk.pos_tag(comment_no_stopwords, tagset='universal') \n",
    "    #pos tagging is  categorizing words in a text (corpus) in correspondence with a particular part of speech, \n",
    "    #depending on the definition of the word and its context. returns a tuple with the word and the part of speech\n",
    "            \n",
    "            for word in comment_tagged:    \n",
    "                if word[1] in useful_tags:# word[1] is the part of speech\n",
    "                    all_words.append(word[0]) # word[0] is the word\n",
    "                    \n",
    "            #return all_words\n",
    "        \n",
    "        except TypeError: \n",
    "            print(comment)\n",
    "            continue"
   ]
  },
  {
   "cell_type": "code",
   "execution_count": 44,
   "id": "dc380401",
   "metadata": {},
   "outputs": [],
   "source": [
    "# testing purposes- for the first 2 comments\n",
    "bag_of_words(comments[:2])\n"
   ]
  },
  {
   "cell_type": "code",
   "execution_count": 45,
   "id": "0f3e174c",
   "metadata": {},
   "outputs": [
    {
     "data": {
      "text/plain": [
       "['lovely',\n",
       " 'rustic',\n",
       " 'accommodation',\n",
       " 'picturesque',\n",
       " 'rural',\n",
       " 'set',\n",
       " 'trudie',\n",
       " 'jan',\n",
       " 'great',\n",
       " 'host']"
      ]
     },
     "execution_count": 45,
     "metadata": {},
     "output_type": "execute_result"
    }
   ],
   "source": [
    "all_words[:10]"
   ]
  },
  {
   "cell_type": "code",
   "execution_count": null,
   "id": "dc9ae6f3",
   "metadata": {},
   "outputs": [],
   "source": [
    "## so now we will use that function to look for words in the positive comments and negative comments\n",
    "#bag_of_words(positive_comments)\n",
    "#bag_of_words(negative_comments)"
   ]
  },
  {
   "cell_type": "code",
   "execution_count": null,
   "id": "d19fdf47",
   "metadata": {},
   "outputs": [],
   "source": []
  },
  {
   "cell_type": "code",
   "execution_count": 46,
   "id": "f8a6d4eb",
   "metadata": {},
   "outputs": [],
   "source": [
    "#this is same as above but without the function\n",
    "useful_tags = ['ADJ', 'ADV', 'VERB','NOUN'] # tags from  https://universaldependencies.org/u/pos/\n",
    "\n",
    "# list to hold the words\n",
    "overall_words = []\n",
    "\n",
    "# Lemmatizer\n",
    "wordnet_lemmatizer = WordNetLemmatizer()\n",
    "\n",
    "for comment in comments[:2]:\n",
    "\n",
    "    try:\n",
    "        # Removes special characters\n",
    "        text = re.sub('[^a-zA-Z]', ' ', comment)# replace non words with nothing?\n",
    "        text = re.sub(\"&lt;/?.*?&gt;\",\" &lt;&gt; \",text)\n",
    "        text = re.sub(\"(\\\\d|\\\\W)+\",\" \",text)\n",
    "        text = text.lower()\n",
    "\n",
    "        comment_tokenized = nltk.word_tokenize(text)  # Split the line of comment into a list of words.\n",
    "\n",
    "        for i in range(0, len(comment_tokenized)):\n",
    "            comment_tokenized[i] = wordnet_lemmatizer.lemmatize(comment_tokenized[i], pos=\"v\")#lemmatize every word in the text\n",
    "            \n",
    "            \n",
    "            #remove stopwords\n",
    "            comment_no_stopwords = [word for word in comment_tokenized if not word in stop_words]\n",
    "\n",
    "            comment_tagged = nltk.pos_tag(comment_no_stopwords, tagset='universal') # Tag each words of the comment to extract relavent words.\n",
    "    #pos tagging is  categorizing words in a text (corpus) in correspondence with a particular part of speech, \n",
    "    #depending on the definition of the word and its context. returns a tuple with the word and the part of speech\n",
    "    \n",
    "        for word in comment_tagged:    \n",
    "            if word[1] in useful_tags:# word[1] is the part of speech\n",
    "                overall_words.append(word[0]) # word[0] is the word\n",
    "\n",
    "                                   \n",
    "    except TypeError:\n",
    "        print(comment)\n",
    "        continue"
   ]
  },
  {
   "cell_type": "code",
   "execution_count": 48,
   "id": "afd26a2b",
   "metadata": {},
   "outputs": [
    {
     "data": {
      "text/plain": [
       "['lovely',\n",
       " 'rustic',\n",
       " 'accommodation',\n",
       " 'picturesque',\n",
       " 'rural',\n",
       " 'set',\n",
       " 'trudie',\n",
       " 'jan',\n",
       " 'great',\n",
       " 'host']"
      ]
     },
     "execution_count": 48,
     "metadata": {},
     "output_type": "execute_result"
    }
   ],
   "source": [
    "overall_words[:10]"
   ]
  },
  {
   "cell_type": "code",
   "execution_count": 50,
   "id": "dbf26192",
   "metadata": {},
   "outputs": [
    {
     "data": {
      "text/plain": [
       "[('host', 2),\n",
       " ('lovely', 1),\n",
       " ('rustic', 1),\n",
       " ('accommodation', 1),\n",
       " ('picturesque', 1),\n",
       " ('rural', 1),\n",
       " ('set', 1),\n",
       " ('trudie', 1),\n",
       " ('jan', 1),\n",
       " ('great', 1),\n",
       " ('regret', 1),\n",
       " ('able', 1),\n",
       " ('spend', 1),\n",
       " ('time', 1),\n",
       " ('property', 1),\n",
       " ('explore', 1),\n",
       " ('delight', 1),\n",
       " ('love', 1),\n",
       " ('watch', 1),\n",
       " ('guinea', 1),\n",
       " ('fowl', 1),\n",
       " ('silly', 1),\n",
       " ('selves', 1),\n",
       " ('drink', 1),\n",
       " ('cup', 1),\n",
       " ('tea', 1),\n",
       " ('stoep', 1),\n",
       " ('mornings', 1),\n",
       " ('friendly', 1),\n",
       " ('take', 1),\n",
       " ('good', 1),\n",
       " ('care', 1),\n",
       " ('guests', 1),\n",
       " ('cottages', 1),\n",
       " ('beautiful', 1)]"
      ]
     },
     "execution_count": 50,
     "metadata": {},
     "output_type": "execute_result"
    }
   ],
   "source": [
    "# frequency distribution for the first 2 comments\n",
    "fdist = nltk.FreqDist(all_words)\n",
    "most_common = fdist.most_common()\n",
    "most_common"
   ]
  },
  {
   "cell_type": "code",
   "execution_count": null,
   "id": "d2186786",
   "metadata": {},
   "outputs": [],
   "source": [
    "## making the frequency distribution into a dataframe"
   ]
  },
  {
   "cell_type": "code",
   "execution_count": 51,
   "id": "f23960e1",
   "metadata": {},
   "outputs": [
    {
     "name": "stdout",
     "output_type": "stream",
     "text": [
      "Frequency: (2, 1, 1, 1, 1, 1, 1, 1, 1, 1, 1, 1, 1, 1, 1, 1, 1, 1, 1, 1, 1, 1, 1, 1, 1, 1, 1, 1, 1, 1, 1, 1, 1, 1, 1)\n",
      "Words: ('host', 'lovely', 'rustic', 'accommodation', 'picturesque', 'rural', 'set', 'trudie', 'jan', 'great', 'regret', 'able', 'spend', 'time', 'property', 'explore', 'delight', 'love', 'watch', 'guinea', 'fowl', 'silly', 'selves', 'drink', 'cup', 'tea', 'stoep', 'mornings', 'friendly', 'take', 'good', 'care', 'guests', 'cottages', 'beautiful')\n"
     ]
    }
   ],
   "source": [
    "word, freq = zip(*most_common)\n",
    "print('Frequency: {}'.format(freq))\n",
    "print('Words: {}'.format(word))"
   ]
  },
  {
   "cell_type": "code",
   "execution_count": 52,
   "id": "214b68f7",
   "metadata": {},
   "outputs": [
    {
     "data": {
      "text/html": [
       "<div>\n",
       "<style scoped>\n",
       "    .dataframe tbody tr th:only-of-type {\n",
       "        vertical-align: middle;\n",
       "    }\n",
       "\n",
       "    .dataframe tbody tr th {\n",
       "        vertical-align: top;\n",
       "    }\n",
       "\n",
       "    .dataframe thead th {\n",
       "        text-align: right;\n",
       "    }\n",
       "</style>\n",
       "<table border=\"1\" class=\"dataframe\">\n",
       "  <thead>\n",
       "    <tr style=\"text-align: right;\">\n",
       "      <th></th>\n",
       "      <th>Word</th>\n",
       "      <th>Frequency</th>\n",
       "    </tr>\n",
       "  </thead>\n",
       "  <tbody>\n",
       "    <tr>\n",
       "      <th>0</th>\n",
       "      <td>host</td>\n",
       "      <td>2</td>\n",
       "    </tr>\n",
       "    <tr>\n",
       "      <th>1</th>\n",
       "      <td>lovely</td>\n",
       "      <td>1</td>\n",
       "    </tr>\n",
       "    <tr>\n",
       "      <th>2</th>\n",
       "      <td>rustic</td>\n",
       "      <td>1</td>\n",
       "    </tr>\n",
       "    <tr>\n",
       "      <th>3</th>\n",
       "      <td>accommodation</td>\n",
       "      <td>1</td>\n",
       "    </tr>\n",
       "    <tr>\n",
       "      <th>4</th>\n",
       "      <td>picturesque</td>\n",
       "      <td>1</td>\n",
       "    </tr>\n",
       "  </tbody>\n",
       "</table>\n",
       "</div>"
      ],
      "text/plain": [
       "            Word  Frequency\n",
       "0           host          2\n",
       "1         lovely          1\n",
       "2         rustic          1\n",
       "3  accommodation          1\n",
       "4    picturesque          1"
      ]
     },
     "execution_count": 52,
     "metadata": {},
     "output_type": "execute_result"
    }
   ],
   "source": [
    "words_df = pd.DataFrame({'Word': word,'Frequency':freq})\n",
    "                                        \n",
    "words_df.head()"
   ]
  },
  {
   "cell_type": "code",
   "execution_count": null,
   "id": "0c2790b4",
   "metadata": {},
   "outputs": [],
   "source": [
    "## plotting the top n frequencies"
   ]
  },
  {
   "cell_type": "code",
   "execution_count": 54,
   "id": "0c26b89f",
   "metadata": {},
   "outputs": [],
   "source": [
    "import seaborn as sns"
   ]
  },
  {
   "cell_type": "code",
   "execution_count": 60,
   "id": "6842d94a",
   "metadata": {},
   "outputs": [
    {
     "data": {
      "image/png": "[encoded data removed]",
      "text/plain": [
       "<Figure size 432x288 with 1 Axes>"
      ]
     },
     "metadata": {
      "needs_background": "light"
     },
     "output_type": "display_data"
    }
   ],
   "source": [
    "def get_top_n_words(words_frame, n=None):\n",
    "    \n",
    "    frame = words_df.head(n) # top n words\n",
    "    \n",
    "    return frame\n",
    "\n",
    "top_words = get_top_n_words(words_df, n=5)\n",
    "\n",
    "g = sns.barplot(x = 'Word', y = 'Frequency', data = top_words)\n",
    "\n",
    "g.set_xticklabels(g.get_xticklabels(), rotation=30);"
   ]
  },
  {
   "cell_type": "code",
   "execution_count": null,
   "id": "33154a7a",
   "metadata": {},
   "outputs": [],
   "source": [
    "# using count vectorizer - more complex"
   ]
  },
  {
   "cell_type": "code",
   "execution_count": 61,
   "id": "a4f56e71",
   "metadata": {},
   "outputs": [],
   "source": [
    "from sklearn.feature_extraction.text import CountVectorizer"
   ]
  },
  {
   "cell_type": "code",
   "execution_count": 62,
   "id": "2491515c",
   "metadata": {},
   "outputs": [
    {
     "data": {
      "text/plain": [
       "array([[0, 0, 0, ..., 0, 0, 0],\n",
       "       [0, 0, 0, ..., 0, 0, 0],\n",
       "       [0, 1, 0, ..., 0, 0, 0],\n",
       "       ...,\n",
       "       [0, 0, 0, ..., 0, 0, 0],\n",
       "       [0, 0, 0, ..., 0, 0, 0],\n",
       "       [0, 0, 1, ..., 0, 0, 0]], dtype=int64)"
      ]
     },
     "execution_count": 62,
     "metadata": {},
     "output_type": "execute_result"
    }
   ],
   "source": [
    "#testing how the vectorizer works\n",
    "vec = CountVectorizer().fit(all_words) \n",
    "bag = vec.transform(all_words)\n",
    "bag.toarray()"
   ]
  },
  {
   "cell_type": "code",
   "execution_count": 63,
   "id": "91068f0a",
   "metadata": {},
   "outputs": [
    {
     "data": {
      "text/plain": [
       "dict_items([('lovely', 18), ('rustic', 24), ('accommodation', 1), ('picturesque', 20), ('rural', 23), ('set', 26), ('trudie', 33), ('jan', 16), ('great', 12), ('host', 15), ('regret', 22), ('able', 0), ('spend', 28), ('time', 32), ('property', 21), ('explore', 8), ('delight', 6), ('love', 17), ('watch', 34), ('guinea', 14), ('fowl', 9), ('silly', 27), ('selves', 25), ('drink', 7), ('cup', 5), ('tea', 31), ('stoep', 29), ('mornings', 19), ('friendly', 10), ('take', 30), ('good', 11), ('care', 3), ('guests', 13), ('cottages', 4), ('beautiful', 2)])"
      ]
     },
     "execution_count": 63,
     "metadata": {},
     "output_type": "execute_result"
    }
   ],
   "source": [
    "vec.vocabulary_.items() # the numbers here are the positions of the words in the sparse matrix not the number of times it appears"
   ]
  },
  {
   "cell_type": "code",
   "execution_count": 65,
   "id": "9ca7074c",
   "metadata": {},
   "outputs": [],
   "source": [
    "import numpy as np"
   ]
  },
  {
   "cell_type": "code",
   "execution_count": 66,
   "id": "87eae691",
   "metadata": {},
   "outputs": [
    {
     "data": {
      "image/png": "[encoded data removed]",
      "text/plain": [
       "<Figure size 936x576 with 1 Axes>"
      ]
     },
     "metadata": {},
     "output_type": "display_data"
    }
   ],
   "source": [
    "\n",
    "def get_top_n_words(words_list, n=None):\n",
    "    vec = CountVectorizer().fit(words_list) # fit the words\n",
    "    bag_of_words = vec.transform(words_list)# transform the words to a vector\n",
    "    sum_words = bag_of_words.sum(axis=0) # sum along rows, this returns a matrix of the sum per row\n",
    "    sum1 = np.asarray(sum_words).reshape(-1) # reshape to a 1d array\n",
    "    words_freq = [(word, sum1[idx]) for word, idx in   # take the word, and its sum(number of occurences) as a tuple  \n",
    "                   vec.vocabulary_.items()]# this returns a list of tuples with the name and its position in the vector\n",
    "    words_freq =sorted(words_freq, key = lambda x: x[1], \n",
    "                       reverse=True) # sort in descending order using the number of occurences\n",
    "    return words_freq[:n]\n",
    "\n",
    "#Convert most freq words to dataframe for plotting bar plot\n",
    "top_words = get_top_n_words(all_words, n=5)\n",
    "top_df = pd.DataFrame(top_words)\n",
    "top_df.columns=[\"Word\", \"Freq\"]\n",
    "\n",
    "#Barplot of most freq words\n",
    "sns.set(rc={'figure.figsize':(13,8)})\n",
    "g = sns.barplot(x=\"Word\", y=\"Freq\", data=top_df)\n",
    "g.set_xticklabels(g.get_xticklabels(), rotation=30);"
   ]
  },
  {
   "cell_type": "markdown",
   "id": "911812df",
   "metadata": {},
   "source": [
    "* We will have barplots for the positive and negative comments. The above was just an example"
   ]
  },
  {
   "cell_type": "markdown",
   "id": "228bebd1",
   "metadata": {},
   "source": [
    "### Merging with the listings dataframe"
   ]
  },
  {
   "cell_type": "markdown",
   "id": "0777cf03",
   "metadata": {},
   "source": [
    "* Now we will merge this reviews dataset with the listings dataset\n",
    "* Then we will take the merged dataset's positive reviews dataframe and do a comparison of how many superhosts vs non superhosts got positive reviews, same with negative reviews"
   ]
  },
  {
   "cell_type": "markdown",
   "id": "7339568d",
   "metadata": {},
   "source": [
    "* Any corrections and suggestions are welcome"
   ]
  },
  {
   "cell_type": "code",
   "execution_count": null,
   "id": "03c779b2",
   "metadata": {},
   "outputs": [],
   "source": []
  }
 ],
 "metadata": {
  "kernelspec": {
   "display_name": "Python 3 (ipykernel)",
   "language": "python",
   "name": "python3"
  },
  "language_info": {
   "codemirror_mode": {
    "name": "ipython",
    "version": 3
   },
   "file_extension": ".py",
   "mimetype": "text/x-python",
   "name": "python",
   "nbconvert_exporter": "python",
   "pygments_lexer": "ipython3",
   "version": "3.9.7"
  }
 },
 "nbformat": 4,
 "nbformat_minor": 5
}
